{
 "cells": [
  {
   "cell_type": "markdown",
   "id": "cf178117-8ff2-4fb8-af40-e1112e8ddf42",
   "metadata": {},
   "source": [
    "### Visualize PLC data in a cycle"
   ]
  },
  {
   "cell_type": "code",
   "execution_count": 3,
   "id": "2971425e-678d-410e-a62a-26255a7c12a7",
   "metadata": {},
   "outputs": [],
   "source": [
    "import pandas as pd\n",
    "import numpy as np\n",
    "import matplotlib.pyplot as plt\n",
    "from sklearn.linear_model import LinearRegression, Ridge, RidgeCV, LogisticRegression\n",
    "from sklearn.metrics import mean_squared_error, r2_score\n",
    "from sklearn.ensemble import RandomForestClassifier, GradientBoostingRegressor, GradientBoostingClassifier, RandomForestRegressor\n",
    "from sklearn.svm import SVC, SVR\n",
    "from sklearn.neural_network import MLPClassifier, MLPRegressor, BernoulliRBM\n",
    "import time\n",
    "import datetime"
   ]
  },
  {
   "cell_type": "markdown",
   "id": "1e2501e8-8af8-4bea-bcdf-5fe77ddb1a79",
   "metadata": {},
   "source": [
    "#### 1. Load data and set configs."
   ]
  },
  {
   "cell_type": "code",
   "execution_count": 4,
   "id": "a0d341fc-d547-46e5-8468-3d14fb1ebbb0",
   "metadata": {},
   "outputs": [
    {
     "data": {
      "text/html": [
       "<div>\n",
       "<style scoped>\n",
       "    .dataframe tbody tr th:only-of-type {\n",
       "        vertical-align: middle;\n",
       "    }\n",
       "\n",
       "    .dataframe tbody tr th {\n",
       "        vertical-align: top;\n",
       "    }\n",
       "\n",
       "    .dataframe thead th {\n",
       "        text-align: right;\n",
       "    }\n",
       "</style>\n",
       "<table border=\"1\" class=\"dataframe\">\n",
       "  <thead>\n",
       "    <tr style=\"text-align: right;\">\n",
       "      <th></th>\n",
       "      <th>crane_id</th>\n",
       "      <th>opc_node_id</th>\n",
       "      <th>timestamp</th>\n",
       "      <th>value</th>\n",
       "    </tr>\n",
       "  </thead>\n",
       "  <tbody>\n",
       "    <tr>\n",
       "      <th>0</th>\n",
       "      <td>P1</td>\n",
       "      <td>Overall-Fault reset</td>\n",
       "      <td>2020-12-15T02:21:33.983Z</td>\n",
       "      <td>False</td>\n",
       "    </tr>\n",
       "    <tr>\n",
       "      <th>1</th>\n",
       "      <td>P1</td>\n",
       "      <td>Overall-Normal / Special</td>\n",
       "      <td>2020-12-15T02:21:33.984Z</td>\n",
       "      <td>False</td>\n",
       "    </tr>\n",
       "    <tr>\n",
       "      <th>2</th>\n",
       "      <td>P1</td>\n",
       "      <td>Luffing-Deceleration limit for decreasing ampl...</td>\n",
       "      <td>2020-12-15T02:21:33.985Z</td>\n",
       "      <td>True</td>\n",
       "    </tr>\n",
       "    <tr>\n",
       "      <th>3</th>\n",
       "      <td>P1</td>\n",
       "      <td>Luffing-Decreasing amplitude limit</td>\n",
       "      <td>2020-12-15T02:21:33.986Z</td>\n",
       "      <td>True</td>\n",
       "    </tr>\n",
       "    <tr>\n",
       "      <th>4</th>\n",
       "      <td>P1</td>\n",
       "      <td>Luffing-Braking unit fault</td>\n",
       "      <td>2020-12-15T02:21:33.988Z</td>\n",
       "      <td>False</td>\n",
       "    </tr>\n",
       "  </tbody>\n",
       "</table>\n",
       "</div>"
      ],
      "text/plain": [
       "  crane_id                                        opc_node_id  \\\n",
       "0       P1                                Overall-Fault reset   \n",
       "1       P1                           Overall-Normal / Special   \n",
       "2       P1  Luffing-Deceleration limit for decreasing ampl...   \n",
       "3       P1                 Luffing-Decreasing amplitude limit   \n",
       "4       P1                         Luffing-Braking unit fault   \n",
       "\n",
       "                  timestamp  value  \n",
       "0  2020-12-15T02:21:33.983Z  False  \n",
       "1  2020-12-15T02:21:33.984Z  False  \n",
       "2  2020-12-15T02:21:33.985Z   True  \n",
       "3  2020-12-15T02:21:33.986Z   True  \n",
       "4  2020-12-15T02:21:33.988Z  False  "
      ]
     },
     "execution_count": 4,
     "metadata": {},
     "output_type": "execute_result"
    }
   ],
   "source": [
    "# df = pd.read_table('moment_limiter.sample.TXT', delimiter='|')\n",
    "\n",
    "# Luffing\n",
    "luffing_start_end = ('Luffing-Safe brake', True, False)\n",
    "travel_start_end = ('Traveling-Zero position', True, False)\n",
    "slewing_start_end = ('Slewing-Motor fan', True, False)\n",
    "hoisting_start_end = ('Hoist-Work brake', True, False)\n",
    "df = pd.read_csv('plc.csv')\n",
    "df.head()"
   ]
  },
  {
   "cell_type": "markdown",
   "id": "b30f4db4-adb5-45ca-a620-ca6f5fab24ba",
   "metadata": {},
   "source": [
    "#### 2. Extract cycles, remove extra ends, and plot."
   ]
  },
  {
   "cell_type": "code",
   "execution_count": 35,
   "id": "3d4e55c4-f147-4ab7-af2a-6b77684b8574",
   "metadata": {},
   "outputs": [],
   "source": [
    "# plot settings\n",
    "xmax = 200\n",
    "ymax = 1000\n",
    "num_bins = int(xmax/10)\n",
    "\n",
    "df_luffing = df.loc[(df['opc_node_id'] == luffing_start_end[0])]# & (df['value'] == luffing_start_end[2])]\n",
    "num_cycles = 0 #len(df_luffing.index)\n",
    "starts = []\n",
    "ends = []\n",
    "for idx, row in df_luffing.iterrows():\n",
    "    if row['value'] == True:\n",
    "        starts.append([idx, row['timestamp']])\n",
    "    else:\n",
    "        ends.append([idx, row['timestamp']])\n",
    "\n",
    "# filter extra ends\n",
    "def get_e(s, ends):\n",
    "    for idx, e in enumerate(ends):\n",
    "        if e[0] > s :\n",
    "            return e, ends[idx:]\n",
    "start_end_pairs = []\n",
    "new_ends = ends\n",
    "for s in starts:\n",
    "    _s = s\n",
    "    _e, new_ends = get_e(_s[0], new_ends)\n",
    "    start_end_pairs.append([_s, _e])\n",
    "length_by_nodes = []\n",
    "for s_e in start_end_pairs:\n",
    "    length_by_nodes.append(s_e[1][0] - s_e[0][0])\n",
    "length_by_time = []\n",
    "for s_e in start_end_pairs:\n",
    "    time_end = datetime.datetime.strptime(s_e[1][1], \"%Y-%m-%dT%H:%M:%S.%fZ\").timetuple()\n",
    "    _time_end = time.mktime(time_end)\n",
    "    time_start = datetime.datetime.strptime(s_e[0][1], \"%Y-%m-%dT%H:%M:%S.%fZ\").timetuple()\n",
    "    _time_start = time.mktime(time_start)\n",
    "    length_by_time.append(_time_end - _time_start)"
   ]
  },
  {
   "cell_type": "markdown",
   "id": "e2fd30b6-9ac8-4b77-83f6-eebad5d928fa",
   "metadata": {},
   "source": [
    "##### 2.1 Plot threshold by time."
   ]
  },
  {
   "cell_type": "code",
   "execution_count": 36,
   "id": "37d8d95c-3806-438f-a8c5-bccea311da7f",
   "metadata": {},
   "outputs": [],
   "source": [
    "threshold = 50\n",
    "warnings = []\n",
    "for s_e in start_end_pairs:\n",
    "    time_end = datetime.datetime.strptime(s_e[1][1], \"%Y-%m-%dT%H:%M:%S.%fZ\").timetuple()\n",
    "    _time_end = time.mktime(time_end)\n",
    "    time_start = datetime.datetime.strptime(s_e[0][1], \"%Y-%m-%dT%H:%M:%S.%fZ\").timetuple()\n",
    "    _time_start = time.mktime(time_start)\n",
    "    duration = _time_end - _time_start\n",
    "    if duration > threshold:\n",
    "        warnings.append(s_e[1][0])\n",
    "#         warnings.append([s_e[0][0], s_e[1][0]])"
   ]
  },
  {
   "cell_type": "code",
   "execution_count": 39,
   "id": "c01b14a8-2004-43b8-adac-48de29022436",
   "metadata": {},
   "outputs": [
    {
     "data": {
      "image/png": "[encoded data removed]",
      "text/plain": [
       "<Figure size 432x288 with 1 Axes>"
      ]
     },
     "metadata": {
      "needs_background": "light"
     },
     "output_type": "display_data"
    }
   ],
   "source": [
    "x = []\n",
    "for i in range(100000):\n",
    "    if len(x) in warnings:\n",
    "        x.append(1)\n",
    "    else:\n",
    "        x.append(0)\n",
    "plt.plot(x)\n",
    "# plt.savefig('Example_50' + '.png', dpi=200)"
   ]
  },
  {
   "cell_type": "markdown",
   "id": "6eb03616-b156-4a99-878d-a3b1a1e7e5c1",
   "metadata": {},
   "source": [
    "##### 2.2 Plot Luffing cycle time."
   ]
  },
  {
   "cell_type": "code",
   "execution_count": 22,
   "id": "25c132c9-930b-4b15-893e-dc5cebc1584c",
   "metadata": {},
   "outputs": [
    {
     "data": {
      "image/png": "[encoded data removed]",
      "text/plain": [
       "<Figure size 432x288 with 1 Axes>"
      ]
     },
     "metadata": {
      "needs_background": "light"
     },
     "output_type": "display_data"
    }
   ],
   "source": [
    "plt.hist(length_by_time, range=[0, xmax], bins=num_bins)\n",
    "axes = plt.gca()\n",
    "axes.set_ylim([0, ymax])\n",
    "title_1 = 'Luffing_OPC_time_per_cycle'\n",
    "plt.title(title_1)\n",
    "# plt.savefig(title_1 + '.png', dpi=200)"
   ]
  },
  {
   "cell_type": "code",
   "execution_count": 5,
   "id": "fb417c5e-0eb1-454b-a2a1-2108fd29f788",
   "metadata": {},
   "outputs": [
    {
     "name": "stdout",
     "output_type": "stream",
     "text": [
      "1706 [[8, '2020-12-15T02:21:33.992Z'], [10, '2020-12-15T02:21:35.982Z']]\n"
     ]
    },
    {
     "data": {
      "image/png": "[encoded data removed]",
      "text/plain": [
       "<Figure size 432x288 with 1 Axes>"
      ]
     },
     "metadata": {
      "needs_background": "light"
     },
     "output_type": "display_data"
    }
   ],
   "source": [
    "print(len(start_end_pairs), start_end_pairs[0])\n",
    "plt.hist(length_by_nodes, range=[0, 300], color = 'g', bins=num_bins)\n",
    "axes = plt.gca()\n",
    "axes.set_ylim([0, ymax])\n",
    "title_1 = 'Luffing_OPC_nodes_per_cycle'\n",
    "plt.title(title_1)\n",
    "# plt.savefig(title_1 + '.png', dpi=200)"
   ]
  },
  {
   "cell_type": "markdown",
   "id": "11357966-d336-4e5d-92b5-ca25f985e0e6",
   "metadata": {},
   "source": [
    "##### 2.3 Plot Traveling cycle time."
   ]
  },
  {
   "cell_type": "code",
   "execution_count": 6,
   "id": "3e4f877b-923d-4882-afbb-1837269dd3c6",
   "metadata": {},
   "outputs": [],
   "source": [
    "# plot settings\n",
    "xmax = 200\n",
    "ymax = 1000\n",
    "num_bins = int(xmax/10)\n",
    "\n",
    "df_luffing = df.loc[(df['opc_node_id'] == travel_start_end[0])]# & (df['value'] == luffing_start_end[2])]\n",
    "num_cycles = 0 #len(df_luffing.index)\n",
    "starts = []\n",
    "ends = []\n",
    "for idx, row in df_luffing.iterrows():\n",
    "    if row['value'] == True:\n",
    "        starts.append([idx, row['timestamp']])\n",
    "    else:\n",
    "        ends.append([idx, row['timestamp']])\n",
    "\n",
    "# filter extra ends\n",
    "def get_e(s, ends):\n",
    "    for idx, e in enumerate(ends):\n",
    "        if e[0] > s:\n",
    "            return e, ends[idx:]\n",
    "    else:\n",
    "        return [-1], []\n",
    "start_end_pairs = []\n",
    "new_ends = ends\n",
    "for s in starts:\n",
    "    _s = s\n",
    "    _e, new_ends = get_e(_s[0], new_ends)\n",
    "    if _e[0] != -1:\n",
    "        start_end_pairs.append([_s, _e])\n",
    "        \n",
    "length_by_nodes = []\n",
    "for s_e in start_end_pairs:\n",
    "    length_by_nodes.append(s_e[1][0] - s_e[0][0])\n",
    "length_by_time = []\n",
    "for s_e in start_end_pairs:\n",
    "    time_end = datetime.datetime.strptime(s_e[1][1], \"%Y-%m-%dT%H:%M:%S.%fZ\").timetuple()\n",
    "    _time_end = time.mktime(time_end)\n",
    "    time_start = datetime.datetime.strptime(s_e[0][1], \"%Y-%m-%dT%H:%M:%S.%fZ\").timetuple()\n",
    "    _time_start = time.mktime(time_start)\n",
    "    length_by_time.append(_time_end - _time_start)"
   ]
  },
  {
   "cell_type": "code",
   "execution_count": 7,
   "id": "ca31b898-ee89-4f36-9542-46658f3d016d",
   "metadata": {},
   "outputs": [
    {
     "data": {
      "image/png": "[encoded data removed]",
      "text/plain": [
       "<Figure size 432x288 with 1 Axes>"
      ]
     },
     "metadata": {
      "needs_background": "light"
     },
     "output_type": "display_data"
    }
   ],
   "source": [
    "plt.hist(length_by_time, bins=num_bins)\n",
    "axes = plt.gca()\n",
    "axes.set_ylim([0, ymax])\n",
    "title_1 = 'Traveling_OPC_time_per_cycle'\n",
    "plt.title(title_1)\n",
    "# plt.savefig(title_1 + '.png', dpi=200)"
   ]
  },
  {
   "cell_type": "code",
   "execution_count": 8,
   "id": "4569f49d-37a0-424b-b5b0-94fa5a224f71",
   "metadata": {},
   "outputs": [
    {
     "name": "stdout",
     "output_type": "stream",
     "text": [
      "380 [[74, '2020-12-15T02:27:15.744Z'], [96, '2020-12-15T02:37:48.985Z']]\n"
     ]
    },
    {
     "data": {
      "image/png": "[encoded data removed]",
      "text/plain": [
       "<Figure size 432x288 with 1 Axes>"
      ]
     },
     "metadata": {
      "needs_background": "light"
     },
     "output_type": "display_data"
    }
   ],
   "source": [
    "print(len(start_end_pairs), start_end_pairs[0])\n",
    "plt.hist(length_by_nodes, range=[0, 300],  color = 'g', bins=num_bins)\n",
    "axes = plt.gca()\n",
    "axes.set_ylim([0, ymax])\n",
    "title_1 = 'Traveling_OPC_nodes_per_cycle'\n",
    "plt.title(title_1)\n",
    "# plt.savefig(title_1 + '.png', dpi=200)"
   ]
  },
  {
   "cell_type": "markdown",
   "id": "bb1b07b5-9cce-46c1-ac18-d614549dac8f",
   "metadata": {},
   "source": [
    "##### 2.4 Plot Slewing cycle time."
   ]
  },
  {
   "cell_type": "code",
   "execution_count": 9,
   "id": "f86ab03e-f516-4574-b3ca-b41cb9845e6c",
   "metadata": {},
   "outputs": [],
   "source": [
    "# plot settings\n",
    "xmax = 200\n",
    "ymax = 1000\n",
    "num_bins = int(xmax/10)\n",
    "\n",
    "df_luffing = df.loc[(df['opc_node_id'] == slewing_start_end[0])]# & (df['value'] == luffing_start_end[2])]\n",
    "num_cycles = 0 #len(df_luffing.index)\n",
    "starts = []\n",
    "ends = []\n",
    "for idx, row in df_luffing.iterrows():\n",
    "    if row['value'] == True:\n",
    "        starts.append([idx, row['timestamp']])\n",
    "    else:\n",
    "        ends.append([idx, row['timestamp']])\n",
    "\n",
    "# filter extra ends\n",
    "def get_e(s, ends):\n",
    "    for idx, e in enumerate(ends):\n",
    "        if e[0] > s:\n",
    "            return e, ends[idx:]\n",
    "    else:\n",
    "        return -1, []\n",
    "start_end_pairs = []\n",
    "new_ends = ends\n",
    "for s in starts:\n",
    "    _s = s\n",
    "    _e, new_ends = get_e(_s[0], new_ends)\n",
    "    if _e != -1:\n",
    "        start_end_pairs.append([_s, _e])\n",
    "\n",
    "length_by_nodes = []\n",
    "for s_e in start_end_pairs:\n",
    "    length_by_nodes.append(s_e[1][0] - s_e[0][0])\n",
    "length_by_time = []\n",
    "for s_e in start_end_pairs:\n",
    "    time_end = datetime.datetime.strptime(s_e[1][1], \"%Y-%m-%dT%H:%M:%S.%fZ\").timetuple()\n",
    "    _time_end = time.mktime(time_end)\n",
    "    time_start = datetime.datetime.strptime(s_e[0][1], \"%Y-%m-%dT%H:%M:%S.%fZ\").timetuple()\n",
    "    _time_start = time.mktime(time_start)\n",
    "    length_by_time.append(_time_end - _time_start)"
   ]
  },
  {
   "cell_type": "code",
   "execution_count": 20,
   "id": "7868341c-892d-485b-a4df-2148fc6486ba",
   "metadata": {},
   "outputs": [
    {
     "data": {
      "image/png": "[encoded data removed]",
      "text/plain": [
       "<Figure size 432x288 with 1 Axes>"
      ]
     },
     "metadata": {
      "needs_background": "light"
     },
     "output_type": "display_data"
    }
   ],
   "source": [
    "plt.hist(length_by_time, range=[0, 500], bins=num_bins)\n",
    "axes = plt.gca()\n",
    "axes.set_ylim([0, ymax+1000])\n",
    "title_1 = 'Slewing_OPC_time_per_cycle'\n",
    "plt.title(title_1)\n",
    "# plt.savefig(title_1 + '.png', dpi=200)"
   ]
  },
  {
   "cell_type": "code",
   "execution_count": 21,
   "id": "649d19bc-56ce-45c8-a613-ca30a53b8b12",
   "metadata": {},
   "outputs": [
    {
     "name": "stdout",
     "output_type": "stream",
     "text": [
      "2339 [[169, '2020-12-15T02:39:01.734Z'], [185, '2020-12-15T02:39:17.983Z']]\n"
     ]
    },
    {
     "data": {
      "image/png": "[encoded data removed]",
      "text/plain": [
       "<Figure size 432x288 with 1 Axes>"
      ]
     },
     "metadata": {
      "needs_background": "light"
     },
     "output_type": "display_data"
    }
   ],
   "source": [
    "print(len(start_end_pairs), start_end_pairs[0])\n",
    "plt.hist(length_by_nodes, range=[0, 300], color = 'g', bins=num_bins)\n",
    "axes = plt.gca()\n",
    "axes.set_ylim([0, ymax*2])\n",
    "title_1 = 'Slewing_OPC_nodes_per_cycle'\n",
    "plt.title(title_1)\n",
    "# plt.savefig(title_1 + '.png', dpi=200)"
   ]
  },
  {
   "cell_type": "markdown",
   "id": "3895d0d9-5c44-4e94-bac6-13220a1e8e1e",
   "metadata": {},
   "source": [
    "##### 2.5 Plot Hoisting cycle time."
   ]
  },
  {
   "cell_type": "code",
   "execution_count": 12,
   "id": "e31a335f-890c-4862-b850-e13ba93487df",
   "metadata": {},
   "outputs": [],
   "source": [
    "# plot settings\n",
    "xmax = 200\n",
    "ymax = 1000\n",
    "num_bins = int(xmax/10)\n",
    "\n",
    "df_luffing = df.loc[(df['opc_node_id'] == hoisting_start_end[0])]# & (df['value'] == luffing_start_end[2])]\n",
    "num_cycles = 0 #len(df_luffing.index)\n",
    "starts = []\n",
    "ends = []\n",
    "for idx, row in df_luffing.iterrows():\n",
    "    if row['value'] == True:\n",
    "        starts.append([idx, row['timestamp']])\n",
    "    else:\n",
    "        ends.append([idx, row['timestamp']])\n",
    "\n",
    "# filter extra ends\n",
    "def get_e(s, ends):\n",
    "    for idx, e in enumerate(ends):\n",
    "        if e[0] > s:\n",
    "            return e, ends[idx:]\n",
    "    else:\n",
    "        return -1, []\n",
    "start_end_pairs = []\n",
    "new_ends = ends\n",
    "for s in starts:\n",
    "    _s = s\n",
    "    _e, new_ends = get_e(_s[0], new_ends)\n",
    "    if _e != -1:\n",
    "        start_end_pairs.append([_s, _e])\n",
    "\n",
    "length_by_nodes = []\n",
    "for s_e in start_end_pairs:\n",
    "    length_by_nodes.append(s_e[1][0] - s_e[0][0])\n",
    "length_by_time = []\n",
    "for s_e in start_end_pairs:\n",
    "    time_end = datetime.datetime.strptime(s_e[1][1], \"%Y-%m-%dT%H:%M:%S.%fZ\").timetuple()\n",
    "    _time_end = time.mktime(time_end)\n",
    "    time_start = datetime.datetime.strptime(s_e[0][1], \"%Y-%m-%dT%H:%M:%S.%fZ\").timetuple()\n",
    "    _time_start = time.mktime(time_start)\n",
    "    length_by_time.append(_time_end - _time_start)"
   ]
  },
  {
   "cell_type": "code",
   "execution_count": 13,
   "id": "b8692fec-7b9a-4251-b2e0-ec6720d6561d",
   "metadata": {},
   "outputs": [
    {
     "data": {
      "image/png": "[encoded data removed]",
      "text/plain": [
       "<Figure size 432x288 with 1 Axes>"
      ]
     },
     "metadata": {
      "needs_background": "light"
     },
     "output_type": "display_data"
    }
   ],
   "source": [
    "plt.hist(length_by_time, range=[0, 500], bins=num_bins)\n",
    "axes = plt.gca()\n",
    "axes.set_ylim([0, ymax+1000])\n",
    "title_1 = 'Hoisting_OPC_time_per_cycle'\n",
    "plt.title(title_1)\n",
    "# plt.savefig(title_1 + '.png', dpi=200)"
   ]
  },
  {
   "cell_type": "code",
   "execution_count": 14,
   "id": "a9e6b2a1-a009-425b-b887-e72927b3f1c4",
   "metadata": {},
   "outputs": [
    {
     "name": "stdout",
     "output_type": "stream",
     "text": [
      "2339 [[169, '2020-12-15T02:39:01.734Z'], [185, '2020-12-15T02:39:17.983Z']]\n"
     ]
    },
    {
     "data": {
      "image/png": "[encoded data removed]",
      "text/plain": [
       "<Figure size 432x288 with 1 Axes>"
      ]
     },
     "metadata": {
      "needs_background": "light"
     },
     "output_type": "display_data"
    }
   ],
   "source": [
    "print(len(start_end_pairs), start_end_pairs[0])\n",
    "plt.hist(length_by_nodes, range=[0, 300], color = 'g', bins=num_bins)\n",
    "axes = plt.gca()\n",
    "axes.set_ylim([0, ymax*2])\n",
    "title_1 = 'Hoisting_OPC_nodes_per_cycle'\n",
    "plt.title(title_1)\n",
    "# plt.savefig(title_1 + '.png', dpi=200)"
   ]
  },
  {
   "cell_type": "code",
   "execution_count": null,
   "id": "aa39ec17-2481-47f7-aba3-8828adb13bb8",
   "metadata": {},
   "outputs": [],
   "source": []
  }
 ],
 "metadata": {
  "kernelspec": {
   "display_name": "Python 3",
   "language": "python",
   "name": "python3"
  },
  "language_info": {
   "codemirror_mode": {
    "name": "ipython",
    "version": 3
   },
   "file_extension": ".py",
   "mimetype": "text/x-python",
   "name": "python",
   "nbconvert_exporter": "python",
   "pygments_lexer": "ipython3",
   "version": "3.6.9"
  }
 },
 "nbformat": 4,
 "nbformat_minor": 5
}
