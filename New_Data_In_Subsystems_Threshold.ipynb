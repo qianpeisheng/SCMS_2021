{
 "cells": [
  {
   "cell_type": "markdown",
   "id": "ecbb9aac-2a1d-4da3-ac7b-c7703f97b9bb",
   "metadata": {},
   "source": [
    "### Threshold the data by the total number of OPC nodes/ in each subsystem and hour.\n",
    "1. The threshold could be based on OPC nodes (this notebook), cycles (to do), and time/duration (this notebook).\n",
    "2. Could be weighted (to do).\n",
    "3. The threshold could be in each hour and subsystem, or accumulated."
   ]
  },
  {
   "cell_type": "code",
   "execution_count": 1,
   "id": "73c1b7d9-2a08-4f9a-8a88-00c5ba3ef92b",
   "metadata": {},
   "outputs": [],
   "source": [
    "import pandas as pd\n",
    "import numpy as np\n",
    "import matplotlib.pyplot as plt\n",
    "import time\n",
    "import datetime\n",
    "from collections import Counter, OrderedDict\n",
    "import matplotlib.ticker as ticker"
   ]
  },
  {
   "cell_type": "markdown",
   "id": "f3d339b5-fc08-4387-9f46-1ad1c2b114bb",
   "metadata": {},
   "source": [
    "#### 1. Read data."
   ]
  },
  {
   "cell_type": "code",
   "execution_count": 2,
   "id": "a9f2ba51-a351-4218-949d-c24974a3ea50",
   "metadata": {},
   "outputs": [],
   "source": [
    "df = pd.read_csv('plc-2021-04-14.csv', low_memory=False)\n",
    "luffing_start_end = ('Luffing-Safe brake', True, False)\n",
    "travel_start_end = ('Traveling-Zero position', True, False)\n",
    "slewing_start_end = ('Slewing-Motor fan', True, False)\n",
    "hoisting_start_end = ('Hoist-Work brake', True, False)"
   ]
  },
  {
   "cell_type": "markdown",
   "id": "8f558b3b-9ec3-48c6-9bad-9ef84f7754d1",
   "metadata": {},
   "source": [
    "#### 2. Count the number of OPC nodes.\n",
    "In each hour, and fill the gaps with zeros."
   ]
  },
  {
   "cell_type": "code",
   "execution_count": 3,
   "id": "cb14825e-dfcd-4a7c-9ba4-c215d4741f61",
   "metadata": {},
   "outputs": [],
   "source": [
    "def get_counter(keyword):    \n",
    "#     keyword = 'Travel'\n",
    "    df_luffing = df[df['opc_node_id'].str.contains(keyword, na=False)]\n",
    "    timestamps_luffing = df_luffing['timestamp']\n",
    "    time_structs_luffing = []\n",
    "    for ts in timestamps_luffing:\n",
    "        time_end = datetime.datetime.strptime(ts, \"%Y-%m-%d %H:%M:%S\").timetuple()\n",
    "        time_structs_luffing.append(time_end)\n",
    "    hours_consecutive = []\n",
    "    days = []\n",
    "    hours_ = []\n",
    "    for ts in time_structs_luffing:\n",
    "        day = ts.tm_yday\n",
    "        if day not in days:\n",
    "            days.append(day)\n",
    "        hour = ts.tm_hour\n",
    "        if hour not in hours_:\n",
    "            hours_.append(hour)\n",
    "            hours_.sort()\n",
    "        day_idx = days.index(day)\n",
    "        hour_idx = hours_.index(hour)\n",
    "        hours_consecutive.append(day_idx*24+hour_idx)\n",
    "    hours_consecutive_counter = Counter(hours_consecutive)\n",
    "    hours_consecutive_counter = Counter({k:c for k, c in hours_consecutive_counter.items() if c >=10})\n",
    "    # ignore an hour when there is almost no operation\n",
    "    return hours_consecutive_counter\n",
    "traveling_counter = get_counter('Traveling')\n",
    "luffing_counter = get_counter('Luffing')\n",
    "slewing_counter = get_counter('Slewing')\n",
    "hoist_counter = get_counter('Hoist')"
   ]
  },
  {
   "cell_type": "code",
   "execution_count": 17,
   "id": "0cd7b058-52fa-4429-8fbf-2fcac2593243",
   "metadata": {},
   "outputs": [],
   "source": [
    "def agument(counter):\n",
    "    '''\n",
    "    For hours with no OPC nodes, set its value to zero.\n",
    "    '''\n",
    "    for _counter in [traveling_counter, luffing_counter, slewing_counter, hoist_counter]:\n",
    "        for k in _counter.keys():\n",
    "            if k not in counter:\n",
    "                counter[k] = 0\n",
    "    temp = []\n",
    "    for k, c in counter.items():\n",
    "        temp.append([k,c])\n",
    "    return sorted(temp, key=lambda x: x[0])\n",
    "\n",
    "_traveling_counter = agument(traveling_counter)\n",
    "_luffing_counter = agument(luffing_counter)\n",
    "_hoist_counter = agument(hoist_counter)\n",
    "_slewing_counter = agument(slewing_counter)"
   ]
  },
  {
   "cell_type": "code",
   "execution_count": 18,
   "id": "53eae308-17f5-4cd7-b2ff-4fbbc8e1cc05",
   "metadata": {},
   "outputs": [
    {
     "name": "stdout",
     "output_type": "stream",
     "text": [
      "239 239 239 239\n"
     ]
    }
   ],
   "source": [
    "print(len(list(traveling_counter.keys())), len(list(luffing_counter.keys())), len(list(slewing_counter.keys())), len(list(hoist_counter.keys())))"
   ]
  },
  {
   "cell_type": "markdown",
   "id": "f3fd35f6-3a8c-43df-98db-6db6cf715edc",
   "metadata": {},
   "source": [
    "#### 3. Obtain statistics."
   ]
  },
  {
   "cell_type": "code",
   "execution_count": 19,
   "id": "87819541-f4d6-47e3-a75f-141497d5fcdd",
   "metadata": {},
   "outputs": [],
   "source": [
    "df2 = pd.DataFrame({'Traveling':[x[1] for x in _traveling_counter],\n",
    "                    'Luffing':[x[1] for x in _luffing_counter],\n",
    "                    'Slewing':[x[1] for x in _slewing_counter],\n",
    "                    'Hoist':[x[1] for x in _hoist_counter]})\n",
    "df2.index = [x[0] for x in _traveling_counter]"
   ]
  },
  {
   "cell_type": "code",
   "execution_count": 20,
   "id": "3c5f93f2-ba14-4388-aace-13b0e0686309",
   "metadata": {},
   "outputs": [
    {
     "data": {
      "text/html": [
       "<div>\n",
       "<style scoped>\n",
       "    .dataframe tbody tr th:only-of-type {\n",
       "        vertical-align: middle;\n",
       "    }\n",
       "\n",
       "    .dataframe tbody tr th {\n",
       "        vertical-align: top;\n",
       "    }\n",
       "\n",
       "    .dataframe thead th {\n",
       "        text-align: right;\n",
       "    }\n",
       "</style>\n",
       "<table border=\"1\" class=\"dataframe\">\n",
       "  <thead>\n",
       "    <tr style=\"text-align: right;\">\n",
       "      <th></th>\n",
       "      <th>Traveling</th>\n",
       "      <th>Luffing</th>\n",
       "      <th>Slewing</th>\n",
       "      <th>Hoist</th>\n",
       "    </tr>\n",
       "  </thead>\n",
       "  <tbody>\n",
       "    <tr>\n",
       "      <th>count</th>\n",
       "      <td>239.000000</td>\n",
       "      <td>239.000000</td>\n",
       "      <td>239.000000</td>\n",
       "      <td>239.000000</td>\n",
       "    </tr>\n",
       "    <tr>\n",
       "      <th>mean</th>\n",
       "      <td>83.405858</td>\n",
       "      <td>332.606695</td>\n",
       "      <td>733.556485</td>\n",
       "      <td>663.514644</td>\n",
       "    </tr>\n",
       "    <tr>\n",
       "      <th>std</th>\n",
       "      <td>82.263198</td>\n",
       "      <td>271.415656</td>\n",
       "      <td>685.443974</td>\n",
       "      <td>556.869384</td>\n",
       "    </tr>\n",
       "    <tr>\n",
       "      <th>min</th>\n",
       "      <td>0.000000</td>\n",
       "      <td>0.000000</td>\n",
       "      <td>0.000000</td>\n",
       "      <td>0.000000</td>\n",
       "    </tr>\n",
       "    <tr>\n",
       "      <th>25%</th>\n",
       "      <td>26.000000</td>\n",
       "      <td>87.000000</td>\n",
       "      <td>118.500000</td>\n",
       "      <td>142.500000</td>\n",
       "    </tr>\n",
       "    <tr>\n",
       "      <th>50%</th>\n",
       "      <td>63.000000</td>\n",
       "      <td>264.000000</td>\n",
       "      <td>622.000000</td>\n",
       "      <td>630.000000</td>\n",
       "    </tr>\n",
       "    <tr>\n",
       "      <th>75%</th>\n",
       "      <td>117.000000</td>\n",
       "      <td>523.000000</td>\n",
       "      <td>1137.500000</td>\n",
       "      <td>991.500000</td>\n",
       "    </tr>\n",
       "    <tr>\n",
       "      <th>max</th>\n",
       "      <td>472.000000</td>\n",
       "      <td>1294.000000</td>\n",
       "      <td>4098.000000</td>\n",
       "      <td>2445.000000</td>\n",
       "    </tr>\n",
       "  </tbody>\n",
       "</table>\n",
       "</div>"
      ],
      "text/plain": [
       "        Traveling      Luffing      Slewing        Hoist\n",
       "count  239.000000   239.000000   239.000000   239.000000\n",
       "mean    83.405858   332.606695   733.556485   663.514644\n",
       "std     82.263198   271.415656   685.443974   556.869384\n",
       "min      0.000000     0.000000     0.000000     0.000000\n",
       "25%     26.000000    87.000000   118.500000   142.500000\n",
       "50%     63.000000   264.000000   622.000000   630.000000\n",
       "75%    117.000000   523.000000  1137.500000   991.500000\n",
       "max    472.000000  1294.000000  4098.000000  2445.000000"
      ]
     },
     "execution_count": 20,
     "metadata": {},
     "output_type": "execute_result"
    }
   ],
   "source": [
    "df2.describe()"
   ]
  },
  {
   "cell_type": "markdown",
   "id": "07ce9efa-fc87-44b2-bc19-ac846fe35f5a",
   "metadata": {},
   "source": [
    "#### 4. Plot each subsystem above the threshold."
   ]
  },
  {
   "cell_type": "code",
   "execution_count": 13,
   "id": "905e11b4-d282-4898-9025-aae7ab0553a8",
   "metadata": {},
   "outputs": [
    {
     "data": {
      "image/png": "[encoded data removed]",
      "text/plain": [
       "<Figure size 432x288 with 1 Axes>"
      ]
     },
     "metadata": {
      "needs_background": "light"
     },
     "output_type": "display_data"
    }
   ],
   "source": [
    "slewing_thresh = 1137\n",
    "above_thresh = {}\n",
    "def filter(counter):\n",
    "    for i in counter:\n",
    "        k, c = i\n",
    "        if k not in above_thresh:\n",
    "            above_thresh[k] = 0\n",
    "        if c > travel_thresh:\n",
    "            above_thresh[k] += 1\n",
    "filter(_slewing_counter)\n",
    "fig, ax = plt.subplots()\n",
    "plt.bar(above_thresh.keys(), above_thresh.values())\n",
    "# Be sure to only pick integer tick locations.\n",
    "for axis in [ax.xaxis, ax.yaxis]:\n",
    "    axis.set_major_locator(ticker.MaxNLocator(integer=True))\n",
    "title = 'Slewing_above_thresholds'\n",
    "plt.title(title)\n",
    "plt.savefig(title+'.png', dpi=200)"
   ]
  },
  {
   "cell_type": "markdown",
   "id": "540e0199-5185-4eee-b251-8d0ffabe7edf",
   "metadata": {},
   "source": [
    "#### 5. Plot the sum of subsystems above the threshold."
   ]
  },
  {
   "cell_type": "code",
   "execution_count": 42,
   "id": "8851604f-8401-448f-a1bf-08d0ed1dc33b",
   "metadata": {},
   "outputs": [],
   "source": [
    "# Set threshold for each subsystem\n",
    "travel_thresh = 117\n",
    "luffing_thresh = 523\n",
    "slewing_thresh = 1137\n",
    "hoist_thresh = 991.5\n",
    "\n",
    "above_thresh = {}\n",
    "def filter(counter):\n",
    "    for i in counter:\n",
    "        k, c = i\n",
    "        if k not in above_thresh:\n",
    "            above_thresh[k] = 0\n",
    "        if c > travel_thresh:\n",
    "            above_thresh[k] += 1\n",
    "filter(_traveling_counter)\n",
    "filter(_luffing_counter)\n",
    "filter(_hoist_counter)\n",
    "filter(_slewing_counter)"
   ]
  },
  {
   "cell_type": "code",
   "execution_count": 56,
   "id": "531e86e5-48c0-42f5-9144-7f0e258b1f99",
   "metadata": {},
   "outputs": [
    {
     "data": {
      "image/png": "[encoded data removed]",
      "text/plain": [
       "<Figure size 432x288 with 1 Axes>"
      ]
     },
     "metadata": {
      "needs_background": "light"
     },
     "output_type": "display_data"
    }
   ],
   "source": [
    "fig, ax = plt.subplots()\n",
    "plt.bar(above_thresh.keys(), above_thresh.values())\n",
    "for axis in [ax.xaxis, ax.yaxis]:\n",
    "    axis.set_major_locator(ticker.MaxNLocator(integer=True))\n",
    "title = 'Count_of_subsystems_above_thresholds_by_hour'\n",
    "plt.title(title)\n",
    "plt.savefig(title+'.png', dpi=200)"
   ]
  },
  {
   "cell_type": "code",
   "execution_count": 59,
   "id": "95eac5bb-f3bc-4407-865f-ae9a4ba77000",
   "metadata": {},
   "outputs": [],
   "source": [
    "# Print the percentage of hours above threshold in each subsystem.\n",
    "_c = Counter(list(above_thresh.values()))\n",
    "for k, v in _c.items():\n",
    "    print(k, v/239)"
   ]
  },
  {
   "cell_type": "markdown",
   "id": "87a3f3d0-8d54-40a9-8642-bfabc2dfa198",
   "metadata": {},
   "source": [
    "#### 6. Plot OPC node counts in each subsystem."
   ]
  },
  {
   "cell_type": "code",
   "execution_count": 21,
   "id": "fa12cfd7-9043-4461-9581-0e388459b583",
   "metadata": {},
   "outputs": [
    {
     "data": {
      "image/png": "[encoded data removed]",
      "text/plain": [
       "<Figure size 432x288 with 1 Axes>"
      ]
     },
     "metadata": {
      "needs_background": "light"
     },
     "output_type": "display_data"
    }
   ],
   "source": [
    "df2.plot()\n",
    "title = 'OPC_node_count_in_4_subsystems'\n",
    "plt.title(title)\n",
    "plt.savefig(title+'.png', dpi=200)"
   ]
  }
 ],
 "metadata": {
  "kernelspec": {
   "display_name": "Python 3",
   "language": "python",
   "name": "python3"
  },
  "language_info": {
   "codemirror_mode": {
    "name": "ipython",
    "version": 3
   },
   "file_extension": ".py",
   "mimetype": "text/x-python",
   "name": "python",
   "nbconvert_exporter": "python",
   "pygments_lexer": "ipython3",
   "version": "3.6.9"
  }
 },
 "nbformat": 4,
 "nbformat_minor": 5
}
