{
 "cells": [
  {
   "cell_type": "markdown",
   "id": "2903d930-645c-4356-a238-e0ca54100782",
   "metadata": {},
   "source": [
    "### Threshold the data by the total number of OPC nodes/ in each subsystem and hour.\n",
    "1. The threshold could be based on OPC nodes (this notebook), cycles (to do), and time/duration (this and another notebook).\n",
    "2. Could be weighted (to do).\n",
    "3. The threshold could be in each hour and subsystem, or accumulated."
   ]
  },
  {
   "cell_type": "code",
   "execution_count": 11,
   "id": "73c1b7d9-2a08-4f9a-8a88-00c5ba3ef92b",
   "metadata": {},
   "outputs": [],
   "source": [
    "import pandas as pd\n",
    "import numpy as np\n",
    "import matplotlib.pyplot as plt\n",
    "import time\n",
    "import datetime\n",
    "from collections import Counter, OrderedDict\n",
    "import matplotlib.ticker as ticker"
   ]
  },
  {
   "cell_type": "markdown",
   "id": "f05b6e6e-1a10-47f4-ba2f-e608f449d138",
   "metadata": {},
   "source": [
    "#### 1. Read data."
   ]
  },
  {
   "cell_type": "code",
   "execution_count": 12,
   "id": "a9f2ba51-a351-4218-949d-c24974a3ea50",
   "metadata": {},
   "outputs": [],
   "source": [
    "df = pd.read_csv('plc-2021-04-14.csv', low_memory=False)\n",
    "luffing_start_end = ('Luffing-Safe brake', True, False)\n",
    "travel_start_end = ('Traveling-Zero position', True, False)\n",
    "slewing_start_end = ('Slewing-Motor fan', True, False)\n",
    "hoisting_start_end = ('Hoist-Work brake', True, False)"
   ]
  },
  {
   "cell_type": "markdown",
   "id": "58edb1ea-ed7c-4ebd-b6cd-2276d1cb6fe7",
   "metadata": {},
   "source": [
    "#### 2. Count the number of OPC nodes.\n",
    "In each hour, and fill the gaps with zeros."
   ]
  },
  {
   "cell_type": "code",
   "execution_count": 13,
   "id": "cb14825e-dfcd-4a7c-9ba4-c215d4741f61",
   "metadata": {},
   "outputs": [],
   "source": [
    "def get_counter(keyword):    \n",
    "#     keyword = 'Travel'\n",
    "    df_luffing = df[df['opc_node_id'].str.contains(keyword, na=False)]\n",
    "    timestamps_luffing = df_luffing['timestamp']\n",
    "    time_structs_luffing = []\n",
    "    for ts in timestamps_luffing:\n",
    "        time_end = datetime.datetime.strptime(ts, \"%Y-%m-%d %H:%M:%S\").timetuple()\n",
    "        time_structs_luffing.append(time_end)\n",
    "    hours_consecutive = []\n",
    "    days = []\n",
    "    hours_ = []\n",
    "    for ts in time_structs_luffing:\n",
    "        day = ts.tm_yday\n",
    "        if day not in days:\n",
    "            days.append(day)\n",
    "        hour = ts.tm_hour\n",
    "        if hour not in hours_:\n",
    "            hours_.append(hour)\n",
    "            hours_.sort()\n",
    "        day_idx = days.index(day)\n",
    "        hour_idx = hours_.index(hour)\n",
    "        hours_consecutive.append(day_idx*24+hour_idx)\n",
    "    hours_consecutive_counter = Counter(hours_consecutive)\n",
    "    hours_consecutive_counter = Counter({k:c for k, c in hours_consecutive_counter.items() if c >=10}) \n",
    "    # ignore an hour when there is almost no operation\n",
    "    return hours_consecutive_counter\n",
    "traveling_counter = get_counter('Traveling')\n",
    "luffing_counter = get_counter('Luffing')\n",
    "slewing_counter = get_counter('Slewing')\n",
    "hoist_counter = get_counter('Hoist')"
   ]
  },
  {
   "cell_type": "code",
   "execution_count": 14,
   "id": "0cd7b058-52fa-4429-8fbf-2fcac2593243",
   "metadata": {},
   "outputs": [],
   "source": [
    "def agument(counter):\n",
    "    '''\n",
    "    For hours with no OPC nodes, set its value to zero.\n",
    "    '''\n",
    "    for _counter in [traveling_counter, luffing_counter, slewing_counter, hoist_counter]:\n",
    "        for k in _counter.keys():\n",
    "            if k not in counter:\n",
    "                counter[k] = 0\n",
    "    temp = []\n",
    "    for k, c in counter.items():\n",
    "        temp.append([k,c])\n",
    "    _temp = sorted(temp, key=lambda x: x[0])\n",
    "    for index, items in enumerate(_temp):\n",
    "        if index >= 1:\n",
    "            items[1] += _temp[index-1][1]\n",
    "    return _temp\n",
    "            \n",
    "_traveling_counter = agument(traveling_counter)\n",
    "_luffing_counter = agument(luffing_counter)\n",
    "_hoist_counter = agument(hoist_counter)\n",
    "_slewing_counter = agument(slewing_counter)"
   ]
  },
  {
   "cell_type": "code",
   "execution_count": 15,
   "id": "53eae308-17f5-4cd7-b2ff-4fbbc8e1cc05",
   "metadata": {},
   "outputs": [],
   "source": [
    "# # the length of each counter should be the same\n",
    "# print(len(list(traveling_counter.keys())), len(list(luffing_counter.keys())), len(list(slewing_counter.keys())), len(list(hoist_counter.keys())))"
   ]
  },
  {
   "cell_type": "code",
   "execution_count": 16,
   "id": "87819541-f4d6-47e3-a75f-141497d5fcdd",
   "metadata": {},
   "outputs": [],
   "source": [
    "df2 = pd.DataFrame({'Traveling':[x[1] for x in _traveling_counter],\n",
    "                    'Luffing':[x[1] for x in _luffing_counter],\n",
    "                    'Slewing':[x[1] for x in _slewing_counter],\n",
    "                    'Hoist':[x[1] for x in _hoist_counter]})\n",
    "df2.index = [x[0] for x in _traveling_counter]\n",
    "df2[\"sum\"] = df2.sum(axis=1)"
   ]
  },
  {
   "cell_type": "code",
   "execution_count": 17,
   "id": "3c5f93f2-ba14-4388-aace-13b0e0686309",
   "metadata": {},
   "outputs": [],
   "source": [
    "# # Save file.\n",
    "# df2.to_csv('accumulated.csv')"
   ]
  },
  {
   "cell_type": "markdown",
   "id": "2adb394a-a4cd-40ea-8223-3fd23dd52193",
   "metadata": {},
   "source": [
    "#### 3. Plot the threshold based on accumulated OPC nodes."
   ]
  },
  {
   "cell_type": "code",
   "execution_count": 18,
   "id": "fa12cfd7-9043-4461-9581-0e388459b583",
   "metadata": {},
   "outputs": [
    {
     "data": {
      "text/plain": [
       "Text(0.5, 1.0, 'OPC_node_accumulation_in_4_subsystems')"
      ]
     },
     "execution_count": 18,
     "metadata": {},
     "output_type": "execute_result"
    },
    {
     "data": {
      "image/png": "[encoded data removed]",
      "text/plain": [
       "<Figure size 432x288 with 1 Axes>"
      ]
     },
     "metadata": {
      "needs_background": "light"
     },
     "output_type": "display_data"
    }
   ],
   "source": [
    "df2.plot()\n",
    "plt.vlines(217, ymin=0, ymax=430000, colors='black')\n",
    "plt.vlines(480, ymin=0, ymax=430000, colors='black')\n",
    "plt.vlines(581, ymin=0, ymax=430000, colors='black')\n",
    "plt.vlines(680, ymin=0, ymax=430000, colors='black')\n",
    "\n",
    "title = 'OPC_node_accumulation_in_4_subsystems'\n",
    "plt.title(title)\n",
    "# plt.savefig(title+'.png', dpi=200)"
   ]
  },
  {
   "cell_type": "markdown",
   "id": "738fd6a7-0fda-427d-a65d-cec528932920",
   "metadata": {},
   "source": [
    "#### 4. Plot the threshold in each hour.\n",
    "In each subsystem, or overall."
   ]
  },
  {
   "cell_type": "code",
   "execution_count": 19,
   "id": "8851604f-8401-448f-a1bf-08d0ed1dc33b",
   "metadata": {},
   "outputs": [],
   "source": [
    "# Set threshold for each subsystem\n",
    "travel_thresh = 117\n",
    "luffing_thresh = 523\n",
    "slewing_thresh = 1137\n",
    "hoist_thresh = 991.5\n",
    "\n",
    "above_thresh = {}\n",
    "def filter(counter):\n",
    "    for i in counter:\n",
    "        k, c = i\n",
    "        if k not in above_thresh:\n",
    "            above_thresh[k] = 0\n",
    "        if c > travel_thresh:\n",
    "            above_thresh[k] += 1\n",
    "filter(_traveling_counter)\n",
    "filter(_luffing_counter)\n",
    "filter(_hoist_counter)\n",
    "filter(_slewing_counter)"
   ]
  },
  {
   "cell_type": "code",
   "execution_count": 20,
   "id": "531e86e5-48c0-42f5-9144-7f0e258b1f99",
   "metadata": {},
   "outputs": [
    {
     "data": {
      "text/plain": [
       "Text(0.5, 1.0, 'Count_of_subsystems_above_thresholds_by_hour')"
      ]
     },
     "execution_count": 20,
     "metadata": {},
     "output_type": "execute_result"
    },
    {
     "data": {
      "image/png": "[encoded data removed]",
      "text/plain": [
       "<Figure size 432x288 with 1 Axes>"
      ]
     },
     "metadata": {
      "needs_background": "light"
     },
     "output_type": "display_data"
    }
   ],
   "source": [
    "fig, ax = plt.subplots()\n",
    "plt.bar(above_thresh.keys(), above_thresh.values())\n",
    "for axis in [ax.xaxis, ax.yaxis]:\n",
    "    axis.set_major_locator(ticker.MaxNLocator(integer=True))\n",
    "title = 'Count_of_subsystems_above_thresholds_by_hour'\n",
    "plt.title(title)\n",
    "# plt.savefig(title+'.png', dpi=200)"
   ]
  },
  {
   "cell_type": "code",
   "execution_count": 22,
   "id": "95eac5bb-f3bc-4407-865f-ae9a4ba77000",
   "metadata": {},
   "outputs": [
    {
     "name": "stdout",
     "output_type": "stream",
     "text": [
      "3 0.0041841004184100415\n",
      "4 0.99581589958159\n"
     ]
    }
   ],
   "source": [
    "# _c = Counter(list(above_thresh.values()))\n",
    "# for k, v in _c.items():\n",
    "#     print(k, v/239)"
   ]
  }
 ],
 "metadata": {
  "kernelspec": {
   "display_name": "Python 3",
   "language": "python",
   "name": "python3"
  },
  "language_info": {
   "codemirror_mode": {
    "name": "ipython",
    "version": 3
   },
   "file_extension": ".py",
   "mimetype": "text/x-python",
   "name": "python",
   "nbconvert_exporter": "python",
   "pygments_lexer": "ipython3",
   "version": "3.6.9"
  }
 },
 "nbformat": 4,
 "nbformat_minor": 5
}
