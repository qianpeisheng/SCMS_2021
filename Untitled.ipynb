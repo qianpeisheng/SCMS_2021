{
 "cells": [
  {
   "cell_type": "code",
   "execution_count": 1,
   "id": "2971425e-678d-410e-a62a-26255a7c12a7",
   "metadata": {},
   "outputs": [],
   "source": [
    "import pandas as pd\n",
    "import numpy as np\n",
    "import matplotlib.pyplot as plt\n",
    "from sklearn.linear_model import LinearRegression, Ridge, RidgeCV, LogisticRegression\n",
    "from sklearn.metrics import mean_squared_error, r2_score\n",
    "from sklearn.ensemble import RandomForestClassifier, GradientBoostingRegressor, GradientBoostingClassifier, RandomForestRegressor\n",
    "from sklearn.svm import SVC, SVR\n",
    "from sklearn.neural_network import MLPClassifier, MLPRegressor, BernoulliRBM"
   ]
  },
  {
   "cell_type": "code",
   "execution_count": 2,
   "id": "a0d341fc-d547-46e5-8468-3d14fb1ebbb0",
   "metadata": {},
   "outputs": [
    {
     "data": {
      "text/html": [
       "<div>\n",
       "<style scoped>\n",
       "    .dataframe tbody tr th:only-of-type {\n",
       "        vertical-align: middle;\n",
       "    }\n",
       "\n",
       "    .dataframe tbody tr th {\n",
       "        vertical-align: top;\n",
       "    }\n",
       "\n",
       "    .dataframe thead th {\n",
       "        text-align: right;\n",
       "    }\n",
       "</style>\n",
       "<table border=\"1\" class=\"dataframe\">\n",
       "  <thead>\n",
       "    <tr style=\"text-align: right;\">\n",
       "      <th></th>\n",
       "      <th>timestamp</th>\n",
       "      <th>main_load</th>\n",
       "      <th>auxiliary_load</th>\n",
       "      <th>rated_load_capacity</th>\n",
       "      <th>amplitude</th>\n",
       "      <th>angle</th>\n",
       "      <th>overload</th>\n",
       "    </tr>\n",
       "  </thead>\n",
       "  <tbody>\n",
       "    <tr>\n",
       "      <th>0</th>\n",
       "      <td>180506140701</td>\n",
       "      <td>0.1</td>\n",
       "      <td>0.0</td>\n",
       "      <td>14.1</td>\n",
       "      <td>17.6</td>\n",
       "      <td>72.3</td>\n",
       "      <td>N</td>\n",
       "    </tr>\n",
       "    <tr>\n",
       "      <th>1</th>\n",
       "      <td>180506140710</td>\n",
       "      <td>0.1</td>\n",
       "      <td>0.0</td>\n",
       "      <td>14.1</td>\n",
       "      <td>17.6</td>\n",
       "      <td>72.3</td>\n",
       "      <td>N</td>\n",
       "    </tr>\n",
       "    <tr>\n",
       "      <th>2</th>\n",
       "      <td>180506140720</td>\n",
       "      <td>0.5</td>\n",
       "      <td>0.0</td>\n",
       "      <td>14.1</td>\n",
       "      <td>17.6</td>\n",
       "      <td>72.3</td>\n",
       "      <td>N</td>\n",
       "    </tr>\n",
       "    <tr>\n",
       "      <th>3</th>\n",
       "      <td>180506140730</td>\n",
       "      <td>0.5</td>\n",
       "      <td>0.0</td>\n",
       "      <td>14.1</td>\n",
       "      <td>17.6</td>\n",
       "      <td>72.3</td>\n",
       "      <td>N</td>\n",
       "    </tr>\n",
       "    <tr>\n",
       "      <th>4</th>\n",
       "      <td>180506140740</td>\n",
       "      <td>0.5</td>\n",
       "      <td>0.0</td>\n",
       "      <td>14.1</td>\n",
       "      <td>17.6</td>\n",
       "      <td>72.3</td>\n",
       "      <td>N</td>\n",
       "    </tr>\n",
       "    <tr>\n",
       "      <th>...</th>\n",
       "      <td>...</td>\n",
       "      <td>...</td>\n",
       "      <td>...</td>\n",
       "      <td>...</td>\n",
       "      <td>...</td>\n",
       "      <td>...</td>\n",
       "      <td>...</td>\n",
       "    </tr>\n",
       "    <tr>\n",
       "      <th>3703</th>\n",
       "      <td>180613142546</td>\n",
       "      <td>0.1</td>\n",
       "      <td>0.0</td>\n",
       "      <td>16.0</td>\n",
       "      <td>14.8</td>\n",
       "      <td>75.1</td>\n",
       "      <td>N</td>\n",
       "    </tr>\n",
       "    <tr>\n",
       "      <th>3704</th>\n",
       "      <td>180613142557</td>\n",
       "      <td>0.1</td>\n",
       "      <td>0.0</td>\n",
       "      <td>12.9</td>\n",
       "      <td>19.0</td>\n",
       "      <td>70.7</td>\n",
       "      <td>N</td>\n",
       "    </tr>\n",
       "    <tr>\n",
       "      <th>3705</th>\n",
       "      <td>180613142607</td>\n",
       "      <td>0.1</td>\n",
       "      <td>0.0</td>\n",
       "      <td>11.3</td>\n",
       "      <td>21.6</td>\n",
       "      <td>67.9</td>\n",
       "      <td>N</td>\n",
       "    </tr>\n",
       "    <tr>\n",
       "      <th>3706</th>\n",
       "      <td>180613142616</td>\n",
       "      <td>0.1</td>\n",
       "      <td>0.0</td>\n",
       "      <td>10.7</td>\n",
       "      <td>22.9</td>\n",
       "      <td>66.5</td>\n",
       "      <td>N</td>\n",
       "    </tr>\n",
       "    <tr>\n",
       "      <th>3707</th>\n",
       "      <td>180613142627</td>\n",
       "      <td>0.1</td>\n",
       "      <td>0.0</td>\n",
       "      <td>10.7</td>\n",
       "      <td>22.9</td>\n",
       "      <td>66.5</td>\n",
       "      <td>N</td>\n",
       "    </tr>\n",
       "  </tbody>\n",
       "</table>\n",
       "<p>3708 rows × 7 columns</p>\n",
       "</div>"
      ],
      "text/plain": [
       "         timestamp  main_load  auxiliary_load  rated_load_capacity  amplitude  \\\n",
       "0     180506140701        0.1             0.0                 14.1       17.6   \n",
       "1     180506140710        0.1             0.0                 14.1       17.6   \n",
       "2     180506140720        0.5             0.0                 14.1       17.6   \n",
       "3     180506140730        0.5             0.0                 14.1       17.6   \n",
       "4     180506140740        0.5             0.0                 14.1       17.6   \n",
       "...            ...        ...             ...                  ...        ...   \n",
       "3703  180613142546        0.1             0.0                 16.0       14.8   \n",
       "3704  180613142557        0.1             0.0                 12.9       19.0   \n",
       "3705  180613142607        0.1             0.0                 11.3       21.6   \n",
       "3706  180613142616        0.1             0.0                 10.7       22.9   \n",
       "3707  180613142627        0.1             0.0                 10.7       22.9   \n",
       "\n",
       "      angle overload  \n",
       "0      72.3        N  \n",
       "1      72.3        N  \n",
       "2      72.3        N  \n",
       "3      72.3        N  \n",
       "4      72.3        N  \n",
       "...     ...      ...  \n",
       "3703   75.1        N  \n",
       "3704   70.7        N  \n",
       "3705   67.9        N  \n",
       "3706   66.5        N  \n",
       "3707   66.5        N  \n",
       "\n",
       "[3708 rows x 7 columns]"
      ]
     },
     "execution_count": 2,
     "metadata": {},
     "output_type": "execute_result"
    }
   ],
   "source": [
    "df = pd.read_table('moment_limiter.sample.TXT', delimiter='|')\n",
    "df"
   ]
  },
  {
   "cell_type": "code",
   "execution_count": 3,
   "id": "9d6927fe-b8b8-47b0-b742-f0d34c5a8c1e",
   "metadata": {},
   "outputs": [],
   "source": [
    "# construct history\n",
    "history_length = 5\n",
    "_df = df[['main_load', 'rated_load_capacity', 'amplitude', 'angle']]\n",
    "temp_list = []\n",
    "for i in range(3600):\n",
    "    data = _df.iloc[i:i+history_length,:]\n",
    "    data = data.to_numpy().flatten()\n",
    "    temp_list.append(data)"
   ]
  },
  {
   "cell_type": "code",
   "execution_count": 4,
   "id": "fafa55ab-f771-43e6-8e5a-76bdd942becd",
   "metadata": {},
   "outputs": [],
   "source": [
    "X = np.array(temp_list)\n",
    "X_train = X[:3000]\n",
    "X_test = X[3000:]\n",
    "Y = np.random.randint(2, size=3600)\n",
    "Y_train = Y[:3000]\n",
    "Y_test = Y[3000:]"
   ]
  },
  {
   "cell_type": "code",
   "execution_count": 5,
   "id": "8795b58a-1883-440d-ac10-fca1f34feaee",
   "metadata": {},
   "outputs": [
    {
     "data": {
      "text/plain": [
       "0.24707402596216818"
      ]
     },
     "execution_count": 5,
     "metadata": {},
     "output_type": "execute_result"
    }
   ],
   "source": [
    "reg = LinearRegression().fit(X, Y)\n",
    "# reg.score(X, Y)\n",
    "Y_pred = reg.predict(X_test)\n",
    "mean_squared_error(Y_pred, Y_test)"
   ]
  },
  {
   "cell_type": "code",
   "execution_count": 6,
   "id": "a63bf097-693c-41ff-9397-269e9e3226aa",
   "metadata": {},
   "outputs": [
    {
     "data": {
      "text/plain": [
       "0.2471549728345067"
      ]
     },
     "execution_count": 6,
     "metadata": {},
     "output_type": "execute_result"
    }
   ],
   "source": [
    "reg = Ridge().fit(X, Y)\n",
    "# reg.score(X, Y)\n",
    "Y_pred = reg.predict(X_test)\n",
    "mean_squared_error(Y_pred, Y_test)"
   ]
  },
  {
   "cell_type": "code",
   "execution_count": 7,
   "id": "fffb034f-c577-4a7d-813c-5c2d9998de4b",
   "metadata": {},
   "outputs": [
    {
     "data": {
      "text/plain": [
       "0.24761676333800342"
      ]
     },
     "execution_count": 7,
     "metadata": {},
     "output_type": "execute_result"
    }
   ],
   "source": [
    "reg = RidgeCV().fit(X, Y)\n",
    "# reg.score(X, Y)\n",
    "Y_pred = reg.predict(X_test)\n",
    "mean_squared_error(Y_pred, Y_test)"
   ]
  },
  {
   "cell_type": "code",
   "execution_count": 8,
   "id": "9c2e5890-9e9d-40df-9ac4-a0d860ae7be2",
   "metadata": {},
   "outputs": [
    {
     "data": {
      "text/plain": [
       "0.16833333333333333"
      ]
     },
     "execution_count": 8,
     "metadata": {},
     "output_type": "execute_result"
    }
   ],
   "source": [
    "reg = RandomForestClassifier().fit(X, Y)\n",
    "# reg.score(X, Y)\n",
    "Y_pred = reg.predict(X_test)\n",
    "mean_squared_error(Y_pred, Y_test)"
   ]
  },
  {
   "cell_type": "code",
   "execution_count": 9,
   "id": "957a8ed9-7a65-4c9a-ba82-e18e1682b853",
   "metadata": {},
   "outputs": [
    {
     "data": {
      "text/plain": [
       "0.12350336763919863"
      ]
     },
     "execution_count": 9,
     "metadata": {},
     "output_type": "execute_result"
    }
   ],
   "source": [
    "reg = RandomForestRegressor().fit(X, Y)\n",
    "# reg.score(X, Y)\n",
    "Y_pred = reg.predict(X_test)\n",
    "mean_squared_error(Y_pred, Y_test)"
   ]
  },
  {
   "cell_type": "code",
   "execution_count": 10,
   "id": "61ad6b7a-0889-4fc9-babc-33107c6ded41",
   "metadata": {},
   "outputs": [
    {
     "data": {
      "text/plain": [
       "0.22953262277551545"
      ]
     },
     "execution_count": 10,
     "metadata": {},
     "output_type": "execute_result"
    }
   ],
   "source": [
    "reg = GradientBoostingRegressor().fit(X, Y)\n",
    "# reg.score(X, Y)\n",
    "Y_pred = reg.predict(X_test)\n",
    "mean_squared_error(Y_pred, Y_test)"
   ]
  },
  {
   "cell_type": "code",
   "execution_count": 11,
   "id": "3805af02-3da6-4950-a906-b8f1106f5622",
   "metadata": {},
   "outputs": [
    {
     "data": {
      "text/plain": [
       "0.3433333333333333"
      ]
     },
     "execution_count": 11,
     "metadata": {},
     "output_type": "execute_result"
    }
   ],
   "source": [
    "reg = GradientBoostingClassifier().fit(X, Y)\n",
    "# reg.score(X, Y)\n",
    "Y_pred = reg.predict(X_test)\n",
    "mean_squared_error(Y_pred, Y_test)"
   ]
  },
  {
   "cell_type": "code",
   "execution_count": 12,
   "id": "cca283aa-5600-49e2-8682-332aa4b1a0e8",
   "metadata": {},
   "outputs": [
    {
     "data": {
      "text/plain": [
       "0.48333333333333334"
      ]
     },
     "execution_count": 12,
     "metadata": {},
     "output_type": "execute_result"
    }
   ],
   "source": [
    "reg = SVC().fit(X, Y)\n",
    "# reg.score(X, Y)\n",
    "Y_pred = reg.predict(X_test)\n",
    "mean_squared_error(Y_pred, Y_test)"
   ]
  },
  {
   "cell_type": "code",
   "execution_count": 13,
   "id": "d02dded3-20f3-477f-a63e-85fc48250be1",
   "metadata": {},
   "outputs": [
    {
     "data": {
      "text/plain": [
       "0.37653338993574154"
      ]
     },
     "execution_count": 13,
     "metadata": {},
     "output_type": "execute_result"
    }
   ],
   "source": [
    "reg = SVR().fit(X, Y)\n",
    "# reg.score(X, Y)\n",
    "Y_pred = reg.predict(X_test)\n",
    "mean_squared_error(Y_pred, Y_test)"
   ]
  },
  {
   "cell_type": "code",
   "execution_count": 14,
   "id": "13e86f90-500b-44ba-9bd4-8b311d9017fd",
   "metadata": {},
   "outputs": [
    {
     "data": {
      "text/plain": [
       "0.51"
      ]
     },
     "execution_count": 14,
     "metadata": {},
     "output_type": "execute_result"
    }
   ],
   "source": [
    "reg = MLPClassifier().fit(X, Y)\n",
    "# reg.score(X, Y)\n",
    "Y_pred = reg.predict(X_test)\n",
    "mean_squared_error(Y_pred, Y_test)"
   ]
  },
  {
   "cell_type": "code",
   "execution_count": 15,
   "id": "dd7520fb-7e66-44a5-85d3-54ae66131f17",
   "metadata": {},
   "outputs": [
    {
     "data": {
      "text/plain": [
       "0.27929277096170657"
      ]
     },
     "execution_count": 15,
     "metadata": {},
     "output_type": "execute_result"
    }
   ],
   "source": [
    "reg = MLPRegressor().fit(X, Y)\n",
    "# reg.score(X, Y)\n",
    "Y_pred = reg.predict(X_test)\n",
    "mean_squared_error(Y_pred, Y_test)"
   ]
  },
  {
   "cell_type": "code",
   "execution_count": null,
   "id": "1c8e388e-5de7-4937-bbe8-a46155529517",
   "metadata": {},
   "outputs": [],
   "source": []
  }
 ],
 "metadata": {
  "kernelspec": {
   "display_name": "Python 3",
   "language": "python",
   "name": "python3"
  },
  "language_info": {
   "codemirror_mode": {
    "name": "ipython",
    "version": 3
   },
   "file_extension": ".py",
   "mimetype": "text/x-python",
   "name": "python",
   "nbconvert_exporter": "python",
   "pygments_lexer": "ipython3",
   "version": "3.6.9"
  }
 },
 "nbformat": 4,
 "nbformat_minor": 5
}
